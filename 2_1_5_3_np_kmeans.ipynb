{
  "nbformat": 4,
  "nbformat_minor": 0,
  "metadata": {
    "kernelspec": {
      "name": "python3",
      "display_name": "Python 3"
    },
    "language_info": {
      "codemirror_mode": {
        "name": "ipython",
        "version": 3
      },
      "file_extension": ".py",
      "mimetype": "text/x-python",
      "name": "python",
      "nbconvert_exporter": "python",
      "pygments_lexer": "ipython3",
      "version": "3.6.5"
    },
    "colab": {
      "name": "2_1_5_3_np_kmeans.ipynb",
      "provenance": [],
      "collapsed_sections": [],
      "toc_visible": true
    }
  },
  "cells": [
    {
      "cell_type": "markdown",
      "metadata": {
        "id": "V4RVkWg7GG8C"
      },
      "source": [
        "# k平均クラスタリング（k-means）"
      ]
    },
    {
      "cell_type": "code",
      "metadata": {
        "id": "lU8HuW6sGG8D"
      },
      "source": [
        "%matplotlib inline\n",
        "import numpy as np\n",
        "import matplotlib.pyplot as plt"
      ],
      "execution_count": null,
      "outputs": []
    },
    {
      "cell_type": "markdown",
      "metadata": {
        "id": "JqMT-eHOGG8F"
      },
      "source": [
        "## データ生成"
      ]
    },
    {
      "cell_type": "code",
      "metadata": {
        "id": "cQtrC8aGGG8F"
      },
      "source": [
        "def gen_data():\n",
        "    x1 = np.random.normal(size=(100, 2)) + np.array([-5, -5])\n",
        "    x2 = np.random.normal(size=(100, 2)) + np.array([5, -5])\n",
        "    x3 = np.random.normal(size=(100, 2)) + np.array([0, 5])\n",
        "    return np.vstack((x1, x2, x3))"
      ],
      "execution_count": null,
      "outputs": []
    },
    {
      "cell_type": "code",
      "metadata": {
        "id": "HpsNF9udGG8H",
        "colab": {
          "base_uri": "https://localhost:8080/",
          "height": 283
        },
        "outputId": "7602d884-c8a7-4349-dec3-12140065ff78"
      },
      "source": [
        "#データ作成\n",
        "X_train = gen_data()\n",
        "#データ描画\n",
        "plt.scatter(X_train[:, 0], X_train[:, 1])"
      ],
      "execution_count": null,
      "outputs": [
        {
          "output_type": "execute_result",
          "data": {
            "text/plain": [
              "<matplotlib.collections.PathCollection at 0x7f083f7ea210>"
            ]
          },
          "metadata": {
            "tags": []
          },
          "execution_count": 13
        },
        {
          "output_type": "display_data",
          "data": {
            "image/png": "[encoded data removed]",
            "text/plain": [
              "<Figure size 432x288 with 1 Axes>"
            ]
          },
          "metadata": {
            "tags": [],
            "needs_background": "light"
          }
        }
      ]
    },
    {
      "cell_type": "markdown",
      "metadata": {
        "id": "QgS_8XSokDxU"
      },
      "source": [
        "## numpy実装  "
      ]
    },
    {
      "cell_type": "markdown",
      "metadata": {
        "id": "ZpewqpW5GG8K"
      },
      "source": [
        "### 学習"
      ]
    },
    {
      "cell_type": "markdown",
      "metadata": {
        "id": "1TLjmQ07GG8K"
      },
      "source": [
        "k-meansアルゴリズムは以下のとおりである\n",
        "\n",
        "1) 各クラスタ中心の初期値を設定する\n",
        "\n",
        "2) 各データ点に対して、各クラスタ中心との距離を計算し、最も距離が近いクラスタを割り当てる\n",
        "\n",
        "3) 各クラスタの平均ベクトル（中心）を計算する\n",
        "\n",
        "4) 収束するまで2, 3の処理を繰り返す"
      ]
    },
    {
      "cell_type": "code",
      "metadata": {
        "id": "E3HTLcqqGG8L"
      },
      "source": [
        "def distance(x1, x2):\n",
        "    return np.sum((x1 - x2)**2, axis=1)\n",
        "\n",
        "n_clusters = 3\n",
        "iter_max = 100\n",
        "\n",
        "# 各クラスタ中心をランダムに初期化\n",
        "centers = X_train[np.random.choice(len(X_train), n_clusters, replace=False)]\n",
        "\n",
        "for _ in range(iter_max):\n",
        "    prev_centers = np.copy(centers)\n",
        "    D = np.zeros((len(X_train), n_clusters))\n",
        "    # 各データ点に対して、各クラスタ中心との距離を計算\n",
        "    for i, x in enumerate(X_train):\n",
        "        D[i] = distance(x, centers)\n",
        "    # 各データ点に、最も距離が近いクラスタを割り当\n",
        "    cluster_index = np.argmin(D, axis=1)\n",
        "    # 各クラスタの中心を計算\n",
        "    for k in range(n_clusters):\n",
        "        index_k = cluster_index == k\n",
        "        centers[k] = np.mean(X_train[index_k], axis=0)\n",
        "    # 収束判定\n",
        "    if np.allclose(prev_centers, centers):\n",
        "        break"
      ],
      "execution_count": null,
      "outputs": []
    },
    {
      "cell_type": "markdown",
      "metadata": {
        "id": "HuMKtR-BGG8M"
      },
      "source": [
        "### クラスタリング結果"
      ]
    },
    {
      "cell_type": "code",
      "metadata": {
        "id": "hPhK6CVjGG8N"
      },
      "source": [
        "def plt_result(X_train, centers, xx):\n",
        "    #　データを可視化\n",
        "    plt.scatter(X_train[:, 0], X_train[:, 1], c=y_pred, cmap='spring')\n",
        "    # 中心を可視化\n",
        "    plt.scatter(centers[:, 0], centers[:, 1], s=200, marker='X', lw=2, c='black', edgecolor=\"white\")\n",
        "    # 領域の可視化\n",
        "    pred = np.empty(len(xx), dtype=int)\n",
        "    for i, x in enumerate(xx):\n",
        "        d = distance(x, centers)\n",
        "        pred[i] = np.argmin(d)\n",
        "    plt.contourf(xx0, xx1, pred.reshape(100, 100), alpha=0.2, cmap='spring')"
      ],
      "execution_count": null,
      "outputs": []
    },
    {
      "cell_type": "code",
      "metadata": {
        "id": "StbgoJ9QGG8O"
      },
      "source": [
        "y_pred = np.empty(len(X_train), dtype=int)\n",
        "for i, x in enumerate(X_train):\n",
        "    d = distance(x, centers)\n",
        "    y_pred[i] = np.argmin(d)"
      ],
      "execution_count": null,
      "outputs": []
    },
    {
      "cell_type": "code",
      "metadata": {
        "id": "qd-CDPUMGG8Q",
        "colab": {
          "base_uri": "https://localhost:8080/",
          "height": 268
        },
        "outputId": "13039ae2-9931-49bb-84a4-f6313fb22a79"
      },
      "source": [
        "xx0, xx1 = np.meshgrid(np.linspace(-10, 10, 100), np.linspace(-10, 10, 100))\n",
        "xx = np.array([xx0, xx1]).reshape(2, -1).T\n",
        "\n",
        "plt_result(X_train, centers, xx)"
      ],
      "execution_count": null,
      "outputs": [
        {
          "output_type": "display_data",
          "data": {
            "image/png": "[encoded data removed]",
            "text/plain": [
              "<Figure size 432x288 with 1 Axes>"
            ]
          },
          "metadata": {
            "tags": [],
            "needs_background": "light"
          }
        }
      ]
    },
    {
      "cell_type": "markdown",
      "metadata": {
        "id": "HCVeajWWGG8R"
      },
      "source": [
        "## scikit-learn実装"
      ]
    },
    {
      "cell_type": "markdown",
      "metadata": {
        "id": "OzpEJf0ol-Pi"
      },
      "source": [
        "### 学習"
      ]
    },
    {
      "cell_type": "code",
      "metadata": {
        "id": "eyaKnPgLGG8S"
      },
      "source": [
        "from sklearn.cluster import KMeans\n",
        "kmeans = KMeans(n_clusters=3, random_state=0).fit(X_train)"
      ],
      "execution_count": null,
      "outputs": []
    },
    {
      "cell_type": "markdown",
      "metadata": {
        "id": "Tu0klJvMl39K"
      },
      "source": [
        "### クラスタリング結果"
      ]
    },
    {
      "cell_type": "code",
      "metadata": {
        "id": "cjPkGw-DGG8U",
        "colab": {
          "base_uri": "https://localhost:8080/"
        },
        "outputId": "7c6c0999-3748-44d6-f055-bb0bdae9e622"
      },
      "source": [
        "print(\"labels: {}\".format(kmeans.labels_))\n",
        "print(\"cluster_centers: {}\".format(kmeans.cluster_centers_))\n",
        "kmeans.cluster_centers_"
      ],
      "execution_count": null,
      "outputs": [
        {
          "output_type": "stream",
          "text": [
            "labels: [1 1 1 1 1 1 1 1 1 1 1 1 1 1 1 1 1 1 1 1 1 1 1 1 1 1 1 1 1 1 1 1 1 1 1 1 1\n",
            " 1 1 1 1 1 1 1 1 1 1 1 1 1 1 1 1 1 1 1 1 1 1 1 1 1 1 1 1 1 1 1 1 1 1 1 1 1\n",
            " 1 1 1 1 1 1 1 1 1 1 1 1 1 1 1 1 1 1 1 1 1 1 1 1 1 1 2 2 2 2 2 2 2 2 2 2 2\n",
            " 2 2 2 2 2 2 2 2 2 2 2 2 2 2 2 2 2 2 2 2 2 2 2 2 2 2 2 2 2 2 2 2 2 2 2 2 2\n",
            " 2 2 2 2 2 2 2 2 2 2 2 2 2 2 2 2 2 2 2 2 2 2 2 2 2 2 2 2 2 2 2 2 2 2 2 2 2\n",
            " 2 2 2 2 2 2 2 2 2 2 2 2 2 2 2 0 0 0 0 0 0 0 0 0 0 0 0 0 0 0 0 0 0 0 0 0 0\n",
            " 0 0 0 0 0 0 0 0 0 0 0 0 0 0 0 0 0 0 0 0 0 0 0 0 0 0 0 0 0 0 0 0 0 0 0 0 0\n",
            " 0 0 0 0 0 0 0 0 0 0 0 0 0 0 0 0 0 0 0 0 0 0 0 0 0 0 0 0 0 0 0 0 0 0 0 0 0\n",
            " 0 0 0 0]\n",
            "cluster_centers: [[-0.02133217  5.042921  ]\n",
            " [-4.96678631 -4.96599345]\n",
            " [ 4.92521608 -4.89076007]]\n"
          ],
          "name": "stdout"
        },
        {
          "output_type": "execute_result",
          "data": {
            "text/plain": [
              "array([[-0.02133217,  5.042921  ],\n",
              "       [-4.96678631, -4.96599345],\n",
              "       [ 4.92521608, -4.89076007]])"
            ]
          },
          "metadata": {
            "tags": []
          },
          "execution_count": 19
        }
      ]
    },
    {
      "cell_type": "code",
      "metadata": {
        "id": "1lJala6AGG8W",
        "colab": {
          "base_uri": "https://localhost:8080/",
          "height": 268
        },
        "outputId": "3d870cf1-2373-468e-be2f-054608244ff1"
      },
      "source": [
        "plt_result(X_train, kmeans.cluster_centers_, xx)"
      ],
      "execution_count": null,
      "outputs": [
        {
          "output_type": "display_data",
          "data": {
            "image/png": "[encoded data removed]",
            "text/plain": [
              "<Figure size 432x288 with 1 Axes>"
            ]
          },
          "metadata": {
            "tags": [],
            "needs_background": "light"
          }
        }
      ]
    },
    {
      "cell_type": "code",
      "metadata": {
        "id": "8K8NjS9KmH30"
      },
      "source": [
        ""
      ],
      "execution_count": null,
      "outputs": []
    }
  ]
}